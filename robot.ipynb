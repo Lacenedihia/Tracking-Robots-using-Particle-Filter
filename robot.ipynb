{
 "cells": [
  {
   "cell_type": "markdown",
   "metadata": {},
   "source": [
    "Robot Localization with Python and Particle Filters\n",
    "==================================================="
   ]
  },
  {
   "cell_type": "markdown",
   "metadata": {},
   "source": [
    "Import libraries and load map."
   ]
  },
  {
   "cell_type": "code",
   "execution_count": 2,
   "metadata": {},
   "outputs": [
    {
     "name": "stderr",
     "output_type": "stream",
     "text": [
      "'pip' is not recognized as an internal or external command,\n",
      "operable program or batch file.\n"
     ]
    },
    {
     "ename": "ModuleNotFoundError",
     "evalue": "No module named 'numpy'",
     "output_type": "error",
     "traceback": [
      "\u001b[1;31m---------------------------------------------------------------------------\u001b[0m",
      "\u001b[1;31mModuleNotFoundError\u001b[0m                       Traceback (most recent call last)",
      "Cell \u001b[1;32mIn[2], line 9\u001b[0m\n\u001b[0;32m      1\u001b[0m get_ipython()\u001b[38;5;241m.\u001b[39msystem(\u001b[38;5;124m'\u001b[39m\u001b[38;5;124mpip install numpy\u001b[39m\u001b[38;5;124m'\u001b[39m)\n\u001b[0;32m      2\u001b[0m \u001b[38;5;66;03m#robot doesn't know where it landed or which direction it is pointed at \u001b[39;00m\n\u001b[0;32m      3\u001b[0m \u001b[38;5;66;03m#all it has is a map of the planet's surface that shows the terrain height \u001b[39;00m\n\u001b[0;32m      4\u001b[0m \u001b[38;5;66;03m#it also has a sensor that measures its own elevation \u001b[39;00m\n\u001b[1;32m   (...)\u001b[0m\n\u001b[0;32m      7\u001b[0m  \u001b[38;5;66;03m#in the demo the green and thered dot were far so he didn't have a clue\u001b[39;00m\n\u001b[0;32m      8\u001b[0m \u001b[38;5;66;03m#but as it kep running nthe two dots got closer meaning he started to figure out its position \u001b[39;00m\n\u001b[1;32m----> 9\u001b[0m \u001b[38;5;28;01mimport\u001b[39;00m \u001b[38;5;21;01mnumpy\u001b[39;00m \u001b[38;5;28;01mas\u001b[39;00m \u001b[38;5;21;01mnp\u001b[39;00m\n\u001b[0;32m     10\u001b[0m \u001b[38;5;28;01mimport\u001b[39;00m \u001b[38;5;21;01mcv2\u001b[39;00m\n\u001b[0;32m     11\u001b[0m \u001b[38;5;28mmap\u001b[39m\u001b[38;5;241m=\u001b[39mcv2\u001b[38;5;241m.\u001b[39mimread(\u001b[38;5;124m\"\u001b[39m\u001b[38;5;124mmap.png\u001b[39m\u001b[38;5;124m\"\u001b[39m,\u001b[38;5;241m0\u001b[39m)\n",
      "\u001b[1;31mModuleNotFoundError\u001b[0m: No module named 'numpy'"
     ]
    }
   ],
   "source": [
    " \n",
    "#robot doesn't know where it landed or which direction it is pointed at \n",
    "#all it has is a map of the planet's surface that shows the terrain height \n",
    "#it also has a sensor that measures its own elevation \n",
    "#using only those two tools we want the robot to figure out \n",
    "#where it is and keep trackign itself as it moves around \n",
    " #in the demo the green and thered dot were far so he didn't have a clue\n",
    "#but as it kep running nthe two dots got closer meaning he started to figure out its position \n",
    "import numpy as np\n",
    "import cv2\n",
    "map=cv2.imread(\"map.png\",0)\n",
    "#the image is stored as 2 dimensional numpy array brightness 0-255\n",
    "HEIGHT,WIDTH=map.shape\n",
    "print(map)\n",
    "#initialize robots position \n",
    "rx,ry,rtheta=(WIDTH/4,HEIGHT/4,0)\n",
    "#the coordinat system we gonna use the open convention from open cv \n",
    "#"
   ]
  },
  {
   "cell_type": "markdown",
   "metadata": {},
   "source": [
    "Map coordinate system\n",
    "\n",
    "![title](images/coords.png)\n",
    "\n",
    "CAUTION: The terrain height at X,Y coordinates is map(Y,X)."
   ]
  },
  {
   "cell_type": "markdown",
   "metadata": {},
   "source": [
    "Read keyboard input."
   ]
  },
  {
   "cell_type": "code",
   "execution_count": null,
   "metadata": {},
   "outputs": [],
   "source": [
    "STEP=5\n",
    "TURN = np.radians(25)\n",
    "def get_input():\n",
    "    fwd=0\n",
    "    turn=0\n",
    "    halt=False\n",
    "    k=cv2.waitKey(0)\n",
    "    if k==82:\n",
    "        fwd=STEP\n",
    "    elif k==83:\n",
    "        turn=TURN\n",
    "    elif k==81:\n",
    "        turn=-TURN\n",
    "    else:\n",
    "        halt=True\n",
    "    return fwd, turn, halt\n",
    "#can move robot around with the arrow keys "
   ]
  },
  {
   "cell_type": "markdown",
   "metadata": {},
   "source": [
    "Move the robot, with Gausssian noise.\n",
    "\n",
    "![title](images/gaussian.png)"
   ]
  },
  {
   "cell_type": "markdown",
   "metadata": {},
   "source": [
    "greek line at the center is greek letter mu \n",
    "it is the forward value that we want to command the robot \n",
    "but the distance it actually moves maybe a bit more or maybe a bit less \n",
    "#the blue curve here represents the values we can get\n",
    "-----------------------------\n",
    "\n",
    "Sigma is the standard deviation "
   ]
  },
  {
   "cell_type": "code",
   "execution_count": null,
   "metadata": {},
   "outputs": [],
   "source": [
    "#now we want to update the robot position according to the keyboard command \n",
    "#In the real world the terrrain is uneven robot control isn't perfect \n",
    "#there's some uncertainty how the robot will move according to our command \n",
    "#we can simulate this by adding gaussian noise to the stepping and steering values \n",
    "SIGMA_STEP=0.5\n",
    "SIGMA_TURN = np.radians(5)\n",
    "\n",
    "def move_robot(rx, ry, rtheta, fwd, turn):\n",
    "    fwd_noisy=np.random.normal(fwd,SIGMA_STEP,1)\n",
    "    rx +=fwd_noisy *  np.cos(rtheta)\n",
    "    ry +=fwd_noisy *  np.sin(rtheta)\n",
    "    print(\"fwd_noisy\",fwd_noisy)\n",
    "    turn_noisy=np.random.normal(turn,SIGMA_TURN,1)\n",
    "    rtheta +=turn_noisy\n",
    "    print(\"turn_noisy\", np.degrees(turn_noisy))\n",
    "    \n",
    "    return rx, ry, rtheta"
   ]
  },
  {
   "cell_type": "markdown",
   "metadata": {},
   "source": [
    "Initialize particle cloud."
   ]
  },
  {
   "cell_type": "code",
   "execution_count": null,
   "metadata": {},
   "outputs": [],
   "source": [
    "#particle filters\n",
    "#we want the robot to figure out its own position \n",
    "#using its terrain map and its sensor for measuring elevation \n",
    "#simple if you can take a measurement and then find all the pixels on the map that are closer to that elevation \n",
    "#it would reveal a lot of matching locations on the map \n",
    "#if the robot moves it had to take another measurement then recheck the whole map all over again \n",
    "#this method doesn't converge to a single location need a more clever way \n",
    "#Idea: \n",
    "#place a few thousands particles all over this map random position random orientations \n",
    "#each particle represent a hypothesis about where the robot might be \n",
    "#when we give a command to the robot we will try to move particles in same way \n",
    "#then we would try to improve our cloud of particles +give estimate that converges to the robot location \n",
    "\n",
    "NUM_PARTICLES=3000\n",
    "def init():\n",
    "    particles=np.random.rand(NUM_PARTICLES,3)\n",
    "    particles*=np.array((WIDTH,HEIGHT,np.radians(360)))\n",
    "    return particles"
   ]
  },
  {
   "cell_type": "markdown",
   "metadata": {},
   "source": [
    "Move the particles. like robot according to particle command "
   ]
  },
  {
   "cell_type": "code",
   "execution_count": null,
   "metadata": {},
   "outputs": [],
   "source": [
    "def move_particles(particles, fwd, turn):\n",
    "#we aren't going to add any noise in the movement \n",
    "#one column at a time x position \n",
    "#: to select all rows of a a specific column \n",
    "    particles [:,0]+= fwd * np.cos(particles[:,2])\n",
    "#whole column at a time \n",
    "#y position  2nd column\n",
    "    particles [:,1]+= fwd * np.sin(particles[:,2])\n",
    "#want to increment the particles heading \n",
    "    particles[:,2] += turn \n",
    "#want to be careful we don't want particles moving ot f the edges of the map \n",
    "    particles[:,0]= np.clip(particles[:,0],0.0,WIDTH-1)\n",
    "    particles[:,1]= np.clip(particles[:,1],0.0,HEIGHT-1)\n",
    "    return particles"
   ]
  },
  {
   "cell_type": "markdown",
   "metadata": {},
   "source": [
    "Get value from robot's sensor."
   ]
  },
  {
   "cell_type": "code",
   "execution_count": null,
   "metadata": {},
   "outputs": [],
   "source": [
    "#how to robot senses its own elevation and decide which of these particles are the best\n",
    "#hypotheses for our robot's position \n",
    "SIGMA_SENSOR=2\n",
    "def sense(x, y, noisy=False):\n",
    "    x=init(x)\n",
    "    y=init(y)\n",
    "    if noisy: \n",
    "        return np.random.normal(map[y,x],SIGMA_SENSOR,1)\n",
    "    \n",
    "    \n",
    "    return map[y,x]"
   ]
  },
  {
   "cell_type": "markdown",
   "metadata": {},
   "source": [
    "Compute particle weights."
   ]
  },
  {
   "cell_type": "code",
   "execution_count": null,
   "metadata": {},
   "outputs": [],
   "source": [
    "#assign weights to the particles higher weights means elevation is a closer match\n",
    "#to the robot sensor measurement \n",
    "def compute_weights(particles, robot_sensor): \n",
    "    errors= np.zeros(NUM_PARTICLES)\n",
    "    for i in range(NUM_PARTICLES):\n",
    "        elevation = sense(particles[i,0],particles[i,1],noisy=False )\n",
    "        #now what we put in the errors array will be the difference \n",
    "        #difference between the robot sensor value and the particle elevation \n",
    "        errors[i]= abs(robot_sensor -  elevation) #not interested in positive and negative \n",
    "#assign weights to the particles  go up as the error goes down \n",
    "    weights = np.max(errors)-errors\n",
    "    #we don't want the particles to pile up on the edges of the map it happens quite easily \n",
    "    #want to set the weights to 0 when a particle reaches the edge \n",
    "    weights[\n",
    "        (particles[:,0]==0) #return a new array or true and false values  condition element-wise\n",
    "        | \n",
    "        (particles[:,0]==WIDTH-1) #building an index for the weights array  \n",
    "        |\n",
    "        (particles[:,1]==0) #we use height instead of width for the y \n",
    "         |\n",
    "        (particles[:,1]==HEIGHT-1)\n",
    "    ]=0.0\n",
    "\n",
    "      #CUBE THE WEIGHTS MAKE IT   work better by insreasing the sensitivity \n",
    "    weights = weights **3   \n",
    "\n",
    "    return weights"
   ]
  },
  {
   "cell_type": "markdown",
   "metadata": {},
   "source": [
    "Resample the particles."
   ]
  },
  {
   "cell_type": "code",
   "execution_count": null,
   "metadata": {},
   "outputs": [],
   "source": [
    "#use this weights to refine estimate of the robot state \n",
    "def resample(particles, weights):\n",
    "#normalize the weights so they sum to 1 \n",
    "    probabilities =weights /np.sum(weights)\n",
    "#this will allow us to use them as a probability distribution over the particles \n",
    "#sample the particles according to this probability distribution \n",
    "    new_index=np.random.choice(NUM_PARTICLES,size=NUM_PARTICLES,p=probabilities)\n",
    "    #return an array of row index numbers \n",
    "    #we can use this index to create a new particle array \n",
    "    particles=particles[new_index,:]\n",
    "    #so we have ressampled the particles \n",
    "    #high weights get ressampled many times  low weights no \n",
    "    #this has improved the estimate of the robot state\n",
    "    \n",
    "    \n",
    "\n",
    "    return particles"
   ]
  },
  {
   "cell_type": "markdown",
   "metadata": {},
   "source": [
    "Add noise to the particles."
   ]
  },
  {
   "cell_type": "code",
   "execution_count": null,
   "metadata": {},
   "outputs": [],
   "source": [
    "SIGMA_POS=2\n",
    "SIGMA_TURN=np.radians(10)\n",
    "\n",
    "#add random variations Gaussian noise \n",
    "def add_noise(particles):\n",
    "    noise = np.concatenate(\n",
    "    (\n",
    "        np.random.normal(0,SIGMA_POS,(NUM_PARTICLES,1)), #X \n",
    "        np.random.normal(0,SIGMA_POS,(NUM_PARTICLES,1)),#Y same \n",
    "        np.random.normal(0,SIGMA_TURN,(NUM_PARTICLES,1)), #theta different std deviation \n",
    "        \n",
    "            \n",
    "    ),\n",
    "    #to tell it how to do the concatenation column-wise \n",
    "        axis=1\n",
    "    )\n",
    "    particles += noise \n",
    "    \n",
    "    return particles"
   ]
  },
  {
   "cell_type": "markdown",
   "metadata": {},
   "source": [
    "Display robot, particles and best guess."
   ]
  },
  {
   "cell_type": "code",
   "execution_count": null,
   "metadata": {},
   "outputs": [],
   "source": [
    "def display(map, rx, ry, particles):\n",
    "    lmap = cv2.cvtColor(map, cv2.COLOR_GRAY2BGR)\n",
    "    \n",
    "    # Display particles\n",
    "    if len(particles) > 0:\n",
    "        for i in range(NUM_PARTICLES):\n",
    "            cv2.circle(lmap, \n",
    "                       (int(particles[i,0]), int(particles[i,1])), \n",
    "                       1, \n",
    "                       (255,0,0), \n",
    "                       1)\n",
    "        \n",
    "    # Display robot\n",
    "    cv2.circle(lmap, (int(rx), int(ry)), 5, (0,255,0), 10)\n",
    "\n",
    "    # Display best guess\n",
    "    if len(particles) > 0:\n",
    "        px = np.mean(particles[:,0])\n",
    "        py = np.mean(particles[:,1])\n",
    "        cv2.circle(lmap, (int(px), int(py)), 5, (0,0,255), 5)\n",
    "\n",
    "    cv2.imshow('map', lmap)"
   ]
  },
  {
   "cell_type": "markdown",
   "metadata": {},
   "source": [
    "Main routine."
   ]
  },
  {
   "cell_type": "code",
   "execution_count": null,
   "metadata": {},
   "outputs": [],
   "source": [
    "particles = init()\n",
    "while True:\n",
    "    display(map, rx, ry, particles)\n",
    "    fwd, turn, halt = get_input()\n",
    "    if halt:\n",
    "        break\n",
    "    rx, ry, rtheta = move_robot(rx, ry, rtheta, fwd, turn)\n",
    "    particles = move_particles(particles, fwd, turn)\n",
    "    if fwd != 0:\n",
    "        robot_sensor = sense(rx, ry, noisy=True)        \n",
    "        weights = compute_weights(particles, robot_sensor)\n",
    "        particles = resample(particles, weights)\n",
    "        particles = add_noise(particles)\n",
    "    \n",
    "cv2.destroyAllWindows()                        \n"
   ]
  },
  {
   "cell_type": "markdown",
   "metadata": {},
   "source": [
    "The particles are concentrating in smaller and smaller region until they finally lock onto the robot \n",
    "You may find you have to give this a few tries because we had a very simplistic implementation \n",
    "sometimes it doesn't quite lock on properly but the capability is there an there are refinements that could be made so that it pretty much locks on every time without fail "
   ]
  },
  {
   "cell_type": "markdown",
   "metadata": {},
   "source": [
    "Pretty Sophisticated algortihm and it's able to maintain the lock "
   ]
  },
  {
   "cell_type": "markdown",
   "metadata": {},
   "source": [
    "Learn a lot about an important problem in robotics called localization \n",
    "a robot landed on a far away planrt and using only a terrain map and a noisy sensor \n",
    "it located its own position and kept tracking it while moving \n",
    "Real world challenge that is uncertainty in the movement and in the sensor measurements "
   ]
  },
  {
   "cell_type": "markdown",
   "metadata": {},
   "source": [
    "Particle filters powerful soltion for computer vision artificial intelligence even finance "
   ]
  },
  {
   "cell_type": "code",
   "execution_count": null,
   "metadata": {},
   "outputs": [],
   "source": []
  }
 ],
 "metadata": {
  "kernelspec": {
   "display_name": "Python 3 (ipykernel)",
   "language": "python",
   "name": "python3"
  },
  "language_info": {
   "codemirror_mode": {
    "name": "ipython",
    "version": 3
   },
   "file_extension": ".py",
   "mimetype": "text/x-python",
   "name": "python",
   "nbconvert_exporter": "python",
   "pygments_lexer": "ipython3",
   "version": "3.12.5"
  }
 },
 "nbformat": 4,
 "nbformat_minor": 4
}
